{
 "cells": [
  {
   "cell_type": "code",
   "execution_count": 98,
   "metadata": {},
   "outputs": [
    {
     "data": {
      "text/plain": [
       "<Figure size 864x720 with 0 Axes>"
      ]
     },
     "metadata": {},
     "output_type": "display_data"
    }
   ],
   "source": [
    "import numpy as np\n",
    "import matplotlib.pyplot as plt\n",
    "fig=plt.figure(figsize=(12,10))\n",
    "import pandas as pd\n",
    "import scipy"
   ]
  },
  {
   "cell_type": "code",
   "execution_count": 99,
   "metadata": {},
   "outputs": [],
   "source": [
    "dff=pd.read_csv('10YRS.csv')"
   ]
  },
  {
   "cell_type": "code",
   "execution_count": 100,
   "metadata": {},
   "outputs": [],
   "source": [
    "df=dff['Adj Close'].dropna()\n",
    "df=df.tolist()"
   ]
  },
  {
   "cell_type": "code",
   "execution_count": 101,
   "metadata": {},
   "outputs": [],
   "source": [
    "def OUKalman(): \n",
    "    \n",
    "    '''OUKalman simulates and then filters a mean reversion process. \n",
    "    Underlying parameters (mu, lambda, and sigma) of this OU process are estimated \n",
    "    by the python minimization function fminsearch.'''\n",
    "    \n",
    "    \n",
    "    \n",
    "    global Obs\n",
    "    global TimeDelta\n",
    "    global xVec\n",
    "    global LnS\n",
    "    \n",
    "    #mean reversion rate\n",
    "    lambda_=1\n",
    "    #long-term mean\n",
    "    mu=3\n",
    "    #Driving Sigma\n",
    "    Dsig =2\n",
    "    #Initial Price\n",
    "    Szero=3; \n",
    "    stepsInput = len(df) \n",
    "    TimeLength=5;\n",
    "    S=Obs=np.zeros(stepsInput) \n",
    "    Obs=np.zeros(stepsInput)\n",
    "    time = np.linspace(0,TimeLength,stepsInput)  \n",
    "    TimeDelta= time[1]-time[0]\n",
    "    SimulateOUkalman (lambda_,Dsig,stepsInput)\n",
    "    xVec=np.zeros(stepsInput) \n",
    "\n",
    "    #Supply initial guess values\n",
    "    muGuess=9\n",
    "    lambdaGuess=2\n",
    "    sigGuess=0.9\n",
    "    RGuess=0.01\n",
    "    param=np.zeros((4,1));\n",
    "    param[0,0]=muGuess;\n",
    "    param[1,0]=lambdaGuess;\n",
    "    param[2,0]=sigGuess;\n",
    "    param[3,0]=RGuess;\n",
    "    pnew = scipy.optimize.fmin(OUloglikelihoodfn,param )\n",
    "    muNew = pnew[0]\n",
    "    lambdaNew = pnew[1];\n",
    "    DsigNew = pnew[2];\n",
    "    RNew = pnew[3];\n",
    "    print( 'Parameters\\t\\t mu \\t lambda \\t sigma \\n'); \n",
    "    print( 'True\\t\\t\\t',round(mu,2),'\\t ',' ',round(lambda_,2),'\\t\\t',round(Dsig,2))\n",
    "    print('Estimated\\t\\t',round(muNew,2),'\\t ',' ',round(lambdaNew,2),'\\t',round(DsigNew,2),'\\n')\n",
    "    print('Measurement Noise Covariance = R =',round(RNew,4));\n",
    "    fig=plt.figure(figsize=(12,10))\n",
    "    plt.plot (time,LnS,label='Real Price',linewidth=0.5)\n",
    "    plt.plot(time, Obs,'--',label='Observed Price',linewidth=0.5)\n",
    "    plt.plot(time, xVec, '-.',label='Predicted Price')\n",
    "    plt.xlabel('Time'); \n",
    "    plt.ylabel('Asset Price')\n",
    "    plt.axis(xmin=0,xmax=5,ymin=0)\n",
    "    plt.legend()\n",
    "    plt.savefig('real_1.png')\n",
    "\n"
   ]
  },
  {
   "cell_type": "code",
   "execution_count": 102,
   "metadata": {},
   "outputs": [],
   "source": [
    "def SimulateOUkalman (lambda_,Dsig,steps):\n",
    "    \n",
    "    ''' SimulateOUkalman generates mean reverting data as well as a corresponding noisy\n",
    "        price observation '''\n",
    "    \n",
    "    \n",
    "    \n",
    "    #We are directly observing spot price -> H(matrix)=1\n",
    "    Z=1\n",
    "    #covariance\n",
    "    H=0.01\n",
    "    #noise\n",
    "    noise_v=np.sqrt(H)*np.random.randn(steps)\n",
    "    \n",
    "    #real price from the dataset\n",
    "    LnS=df\n",
    "    \n",
    "    #creating observed data by adding noise to the real dataset\n",
    "    Obs[0]=Z*LnS[0]+noise_v[0]\n",
    "    \n",
    "    for i in range(1,steps):\n",
    "        Obs[i]=Z*LnS[i]+noise_v[i]"
   ]
  },
  {
   "cell_type": "code",
   "execution_count": 103,
   "metadata": {},
   "outputs": [],
   "source": [
    "def OUloglikelihoodfn(parameter):\n",
    "    '''\n",
    "    OUloglikelihoodfn returns negative of log Maximum Likelihood Estimation of process \n",
    "    parameters (mu, lambda, sig, R) fit to observation data with the Kalman filter\n",
    "    '''\n",
    "    \n",
    "    mu=parameter[0];\n",
    "    lambda_=parameter[1];\n",
    "    sig=parameter[2];\n",
    "    H=parameter[3]; \n",
    "    Z=1;\n",
    "    M=np.exp(-lambda_*TimeDelta);\n",
    "    \n",
    "    C=mu*(1-M);\n",
    "    \n",
    "    #observation size\n",
    "    nsamples=len(Obs);\n",
    "    LikeSum=0.5*nsamples*np.log(2*np.pi);\n",
    "    x=Z*Obs[0];\n",
    "    xVec[0]=x;\n",
    "    if lambda_==0: \n",
    "        Q= sig*sig*( (1-exp(-2*lambda_*TimeDelta))/(2*lambda_));\n",
    "    else:\n",
    "        Q= sig*sig*(TimeDelta);\n",
    "    \n",
    "    P=Z*Q*np.transpose(Z)\n",
    "        \n",
    "    for i in range(1,nsamples):\n",
    "        #x(k|k-1) State Prediction\n",
    "        x = M*x+C\n",
    "        \n",
    "        #P(k|k-1) Covariance Prediction\n",
    "        P = M*P*np.transpose(M)+ Q\n",
    "        \n",
    "        #%Measurement (Innovation\n",
    "        MR = Obs[i]- Z*x\n",
    "        \n",
    "        #Residual (Innovation) Covariance\n",
    "        F = Z*P*np.transpose(Z) + H;\n",
    "        #Kalman Gain\n",
    "        K = P*Z * F**(-1)\n",
    "        \n",
    "        #posteriori estimate\n",
    "        x = x + K*(MR)\n",
    "        \n",
    "        #posterior error covariance\n",
    "        P = P-K*Z*P\n",
    "        \n",
    "        #the max. likelihood was multiplied by -1 to give a minimum for fminsearch\n",
    "        LikeSum=LikeSum +0.5*np.log(F)+0.5*MR*F**(-1)*MR\n",
    "        xVec[i]=x\n",
    "    return LikeSum"
   ]
  },
  {
   "cell_type": "code",
   "execution_count": null,
   "metadata": {},
   "outputs": [],
   "source": [
    "OUKalman()"
   ]
  },
  {
   "cell_type": "code",
   "execution_count": null,
   "metadata": {},
   "outputs": [],
   "source": []
  }
 ],
 "metadata": {
  "kernelspec": {
   "display_name": "Python 3",
   "language": "python",
   "name": "python3"
  },
  "language_info": {
   "codemirror_mode": {
    "name": "ipython",
    "version": 3
   },
   "file_extension": ".py",
   "mimetype": "text/x-python",
   "name": "python",
   "nbconvert_exporter": "python",
   "pygments_lexer": "ipython3",
   "version": "3.6.9"
  }
 },
 "nbformat": 4,
 "nbformat_minor": 2
}
